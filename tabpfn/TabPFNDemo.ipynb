{
  "cells": [
    {
      "cell_type": "code",
      "execution_count": 1,
      "metadata": {
        "executionInfo": {
          "elapsed": 626,
          "status": "ok",
          "timestamp": 1681075858308,
          "user": {
            "displayName": "Khaled Osama",
            "userId": "10414291441452568643"
          },
          "user_tz": -120
        },
        "id": "Bkj2F3Q72OB0"
      },
      "outputs": [],
      "source": [
        "import numpy as np\n",
        "from pathlib import Path\n",
        "import pandas as pd\n",
        "import time\n",
        "import torch\n",
        "\n",
        "import matplotlib.pyplot as plt\n",
        "from matplotlib.colors import ListedColormap\n",
        "\n",
        "from sklearn.metrics import accuracy_score\n",
        "from sklearn.datasets import load_breast_cancer\n",
        "from sklearn.model_selection import train_test_split\n",
        "from scripts.decision_boundary import DecisionBoundaryDisplay\n",
        "\n",
        "from scripts.transformer_prediction_interface import TabPFNClassifier\n",
        "import torch.nn as nn\n"
      ]
    },
    {
      "cell_type": "code",
      "execution_count": 2,
      "metadata": {
        "executionInfo": {
          "elapsed": 595,
          "status": "ok",
          "timestamp": 1681075560931,
          "user": {
            "displayName": "Khaled Osama",
            "userId": "10414291441452568643"
          },
          "user_tz": -120
        },
        "id": "aa8nmYiM2UjO"
      },
      "outputs": [],
      "source": [
        "X, y = load_breast_cancer(return_X_y=True)\n",
        "X_train, X_test, y_train, y_test = train_test_split(X, y, train_size=40, test_size=10, random_state=42)"
      ]
    },
    {
      "cell_type": "code",
      "execution_count": 3,
      "metadata": {
        "colab": {
          "base_uri": "https://localhost:8080/"
        },
        "executionInfo": {
          "elapsed": 12666,
          "status": "ok",
          "timestamp": 1681075576727,
          "user": {
            "displayName": "Khaled Osama",
            "userId": "10414291441452568643"
          },
          "user_tz": -120
        },
        "id": "eZIZ2Fi1t5v7",
        "outputId": "66438a14-92e9-421e-9617-d2026a98933a"
      },
      "outputs": [
        {
          "name": "stdout",
          "output_type": "stream",
          "text": [
            "Loading model that can be used for inference only\n",
            "Using a Transformer with 25.82 M parameters\n"
          ]
        }
      ],
      "source": [
        "# N_ensemble_configurations defines how many estimators are averaged, it is bounded by #features * #classes\n",
        "# more ensemble members are slower, but more accurate\n",
        "classifier = TabPFNClassifier(device='cpu', N_ensemble_configurations=4)"
      ]
    },
    {
      "cell_type": "code",
      "execution_count": 4,
      "metadata": {
        "colab": {
          "base_uri": "https://localhost:8080/"
        },
        "executionInfo": {
          "elapsed": 3734,
          "status": "ok",
          "timestamp": 1681075595960,
          "user": {
            "displayName": "Khaled Osama",
            "userId": "10414291441452568643"
          },
          "user_tz": -120
        },
        "id": "GtwfnbjSJCqw",
        "outputId": "898d1d37-832a-4dc4-e580-4e83fcf9a193"
      },
      "outputs": [
        {
          "ename": "IndexError",
          "evalue": "Dimension out of range (expected to be in range of [-1, 0], but got 1)",
          "output_type": "error",
          "traceback": [
            "\u001b[0;31m---------------------------------------------------------------------------\u001b[0m",
            "\u001b[0;31mIndexError\u001b[0m                                Traceback (most recent call last)",
            "\u001b[1;32m/home/khaled/Uni/Thesis/repos/TabPFN/tabpfn/TabPFNDemo.ipynb Cell 4\u001b[0m in \u001b[0;36m<cell line: 5>\u001b[0;34m()\u001b[0m\n\u001b[1;32m      <a href='vscode-notebook-cell:/home/khaled/Uni/Thesis/repos/TabPFN/tabpfn/TabPFNDemo.ipynb#W3sZmlsZQ%3D%3D?line=2'>3</a>\u001b[0m y_eval, p_eval, pre \u001b[39m=\u001b[39m classifier\u001b[39m.\u001b[39mpredict(X_test, return_winning_probability\u001b[39m=\u001b[39m\u001b[39mTrue\u001b[39;00m)\n\u001b[1;32m      <a href='vscode-notebook-cell:/home/khaled/Uni/Thesis/repos/TabPFN/tabpfn/TabPFNDemo.ipynb#W3sZmlsZQ%3D%3D?line=3'>4</a>\u001b[0m criterion \u001b[39m=\u001b[39m nn\u001b[39m.\u001b[39mCrossEntropyLoss()\n\u001b[0;32m----> <a href='vscode-notebook-cell:/home/khaled/Uni/Thesis/repos/TabPFN/tabpfn/TabPFNDemo.ipynb#W3sZmlsZQ%3D%3D?line=4'>5</a>\u001b[0m loss \u001b[39m=\u001b[39m criterion(torch\u001b[39m.\u001b[39;49mfrom_numpy(y_test), pre)\n\u001b[1;32m      <a href='vscode-notebook-cell:/home/khaled/Uni/Thesis/repos/TabPFN/tabpfn/TabPFNDemo.ipynb#W3sZmlsZQ%3D%3D?line=5'>6</a>\u001b[0m \u001b[39mprint\u001b[39m(\u001b[39m'\u001b[39m\u001b[39mPrediction time: \u001b[39m\u001b[39m'\u001b[39m, time\u001b[39m.\u001b[39mtime() \u001b[39m-\u001b[39m start, \u001b[39m'\u001b[39m\u001b[39mAccuracy\u001b[39m\u001b[39m'\u001b[39m, accuracy_score(y_test, y_eval))\n",
            "File \u001b[0;32m~/miniconda3/envs/thesis/lib/python3.9/site-packages/torch/nn/modules/module.py:1051\u001b[0m, in \u001b[0;36mModule._call_impl\u001b[0;34m(self, *input, **kwargs)\u001b[0m\n\u001b[1;32m   1047\u001b[0m \u001b[39m# If we don't have any hooks, we want to skip the rest of the logic in\u001b[39;00m\n\u001b[1;32m   1048\u001b[0m \u001b[39m# this function, and just call forward.\u001b[39;00m\n\u001b[1;32m   1049\u001b[0m \u001b[39mif\u001b[39;00m \u001b[39mnot\u001b[39;00m (\u001b[39mself\u001b[39m\u001b[39m.\u001b[39m_backward_hooks \u001b[39mor\u001b[39;00m \u001b[39mself\u001b[39m\u001b[39m.\u001b[39m_forward_hooks \u001b[39mor\u001b[39;00m \u001b[39mself\u001b[39m\u001b[39m.\u001b[39m_forward_pre_hooks \u001b[39mor\u001b[39;00m _global_backward_hooks\n\u001b[1;32m   1050\u001b[0m         \u001b[39mor\u001b[39;00m _global_forward_hooks \u001b[39mor\u001b[39;00m _global_forward_pre_hooks):\n\u001b[0;32m-> 1051\u001b[0m     \u001b[39mreturn\u001b[39;00m forward_call(\u001b[39m*\u001b[39;49m\u001b[39minput\u001b[39;49m, \u001b[39m*\u001b[39;49m\u001b[39m*\u001b[39;49mkwargs)\n\u001b[1;32m   1052\u001b[0m \u001b[39m# Do not call functions when jit is used\u001b[39;00m\n\u001b[1;32m   1053\u001b[0m full_backward_hooks, non_full_backward_hooks \u001b[39m=\u001b[39m [], []\n",
            "File \u001b[0;32m~/miniconda3/envs/thesis/lib/python3.9/site-packages/torch/nn/modules/loss.py:1120\u001b[0m, in \u001b[0;36mCrossEntropyLoss.forward\u001b[0;34m(self, input, target)\u001b[0m\n\u001b[1;32m   1119\u001b[0m \u001b[39mdef\u001b[39;00m \u001b[39mforward\u001b[39m(\u001b[39mself\u001b[39m, \u001b[39minput\u001b[39m: Tensor, target: Tensor) \u001b[39m-\u001b[39m\u001b[39m>\u001b[39m Tensor:\n\u001b[0;32m-> 1120\u001b[0m     \u001b[39mreturn\u001b[39;00m F\u001b[39m.\u001b[39;49mcross_entropy(\u001b[39minput\u001b[39;49m, target, weight\u001b[39m=\u001b[39;49m\u001b[39mself\u001b[39;49m\u001b[39m.\u001b[39;49mweight,\n\u001b[1;32m   1121\u001b[0m                            ignore_index\u001b[39m=\u001b[39;49m\u001b[39mself\u001b[39;49m\u001b[39m.\u001b[39;49mignore_index, reduction\u001b[39m=\u001b[39;49m\u001b[39mself\u001b[39;49m\u001b[39m.\u001b[39;49mreduction)\n",
            "File \u001b[0;32m~/miniconda3/envs/thesis/lib/python3.9/site-packages/torch/nn/functional.py:2824\u001b[0m, in \u001b[0;36mcross_entropy\u001b[0;34m(input, target, weight, size_average, ignore_index, reduce, reduction)\u001b[0m\n\u001b[1;32m   2822\u001b[0m \u001b[39mif\u001b[39;00m size_average \u001b[39mis\u001b[39;00m \u001b[39mnot\u001b[39;00m \u001b[39mNone\u001b[39;00m \u001b[39mor\u001b[39;00m reduce \u001b[39mis\u001b[39;00m \u001b[39mnot\u001b[39;00m \u001b[39mNone\u001b[39;00m:\n\u001b[1;32m   2823\u001b[0m     reduction \u001b[39m=\u001b[39m _Reduction\u001b[39m.\u001b[39mlegacy_get_string(size_average, reduce)\n\u001b[0;32m-> 2824\u001b[0m \u001b[39mreturn\u001b[39;00m torch\u001b[39m.\u001b[39;49m_C\u001b[39m.\u001b[39;49m_nn\u001b[39m.\u001b[39;49mcross_entropy_loss(\u001b[39minput\u001b[39;49m, target, weight, _Reduction\u001b[39m.\u001b[39;49mget_enum(reduction), ignore_index)\n",
            "\u001b[0;31mIndexError\u001b[0m: Dimension out of range (expected to be in range of [-1, 0], but got 1)"
          ]
        }
      ],
      "source": [
        "start = time.time()\n",
        "classifier.fit(X_train, y_train)\n",
        "y_eval, p_eval, pre = classifier.predict(X_test, return_winning_probability=True)\n",
        "print('Prediction time: ', time.time() - start, 'Accuracy', accuracy_score(y_test, y_eval))"
      ]
    },
    {
      "cell_type": "code",
      "execution_count": null,
      "metadata": {
        "colab": {
          "base_uri": "https://localhost:8080/"
        },
        "executionInfo": {
          "elapsed": 937,
          "status": "ok",
          "timestamp": 1681068369688,
          "user": {
            "displayName": "Khaled Osama",
            "userId": "10414291441452568643"
          },
          "user_tz": -120
        },
        "id": "0nP1XvMOuaO9",
        "outputId": "2ddd6489-e372-41b4-d9c3-d099c701695a"
      },
      "outputs": [],
      "source": [
        "classifier.predict_proba(X_test)"
      ]
    },
    {
      "cell_type": "code",
      "execution_count": null,
      "metadata": {
        "colab": {
          "base_uri": "https://localhost:8080/"
        },
        "executionInfo": {
          "elapsed": 369,
          "status": "ok",
          "timestamp": 1681068527396,
          "user": {
            "displayName": "Khaled Osama",
            "userId": "10414291441452568643"
          },
          "user_tz": -120
        },
        "id": "X1i0muy4tW9M",
        "outputId": "aa10c00a-5e4b-438f-cb4c-9eb5f3379850"
      },
      "outputs": [],
      "source": [
        "out_table = pd.DataFrame(X_test.copy().astype(str))\n",
        "out_table['prediction'] = [f\"{y_e} (p={p_e:.2f})\" for y_e, p_e in zip(y_eval, p_eval)]\n",
        "out_table"
      ]
    },
    {
      "cell_type": "code",
      "execution_count": null,
      "metadata": {
        "id": "OBXN4152JFAO"
      },
      "outputs": [],
      "source": [
        "# PLOTTING\n",
        "fig = plt.figure(figsize=(10,10))\n",
        "ax = fig.add_subplot(111)\n",
        "cm = plt.cm.RdBu\n",
        "cm_bright = ListedColormap([\"#FF0000\", \"#0000FF\"])\n",
        "\n",
        "# Plot the training points\n",
        "vfunc = np.vectorize(lambda x : np.where(classifier.classes_ == x)[0])\n",
        "y_train_index = vfunc(y_train)\n",
        "y_train_index = y_train_index == 0\n",
        "\n",
        "ax.scatter(X_train[:, 0], X_train[:, 1], c=y_train_index, cmap=cm_bright)\n",
        "\n",
        "classifier.fit(X_train[:, 0:2], y_train_index)\n",
        "\n",
        "DecisionBoundaryDisplay.from_estimator(\n",
        "    classifier, X_train[:, 0:2], alpha=0.6, ax=ax, eps=2.0, grid_resolution=25, response_method=\"predict_proba\"\n",
        ")"
      ]
    }
  ],
  "metadata": {
    "accelerator": "GPU",
    "colab": {
      "provenance": [
        {
          "file_id": "194mCs6SEPEW6C0rcP7xWzcEtt1RBc8jJ",
          "timestamp": 1681078675994
        },
        {
          "file_id": "1J0l1AtMV_H1KQ7IRbgJje5hMhKHczH7-",
          "timestamp": 1665491974890
        }
      ]
    },
    "kernelspec": {
      "display_name": "Python 3",
      "name": "python3"
    },
    "language_info": {
      "codemirror_mode": {
        "name": "ipython",
        "version": 3
      },
      "file_extension": ".py",
      "mimetype": "text/x-python",
      "name": "python",
      "nbconvert_exporter": "python",
      "pygments_lexer": "ipython3",
      "version": "3.9.16"
    }
  },
  "nbformat": 4,
  "nbformat_minor": 0
}
